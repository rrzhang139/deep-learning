{
 "cells": [
  {
   "cell_type": "markdown",
   "metadata": {},
   "source": [
    "# Intuition\n",
    "\n",
    "An optimization algorithm using adaptive moment estimation. Efficient\n",
    "\n",
    "Standard stochastic gradient descent is inefficient because it uses a fixed learning rate.\n",
    "\n",
    "Instead, have step size adapt to gradient.If converging in same direction for a while, increase step size. Just like momentum. "
   ]
  },
  {
   "cell_type": "code",
   "execution_count": null,
   "metadata": {},
   "outputs": [],
   "source": []
  }
 ],
 "metadata": {
  "language_info": {
   "name": "python"
  }
 },
 "nbformat": 4,
 "nbformat_minor": 2
}
